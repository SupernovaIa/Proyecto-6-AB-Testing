{
 "cells": [
  {
   "cell_type": "code",
   "execution_count": 1,
   "metadata": {},
   "outputs": [],
   "source": [
    "# Working with Dataframes\n",
    "# -----------------------------------------------------------------------\n",
    "import pandas as pd\n",
    "\n",
    "# Path configuration for custom module imports\n",
    "# -----------------------------------------------------------------------\n",
    "import sys\n",
    "sys.path.append('../')  # Adds the parent directory to the path for custom module imports\n",
    "\n",
    "# Import custom functions to work with databases\n",
    "# -----------------------------------------------------------------------\n",
    "from src.support_db import sql_query\n",
    "from src.support_queries import query"
   ]
  },
  {
   "cell_type": "code",
   "execution_count": 2,
   "metadata": {},
   "outputs": [],
   "source": [
    "import seaborn as sns\n",
    "import matplotlib.pyplot as plt"
   ]
  },
  {
   "cell_type": "markdown",
   "metadata": {},
   "source": [
    "In the file `sql/03-view_creation.sql`, we have a query that creates a view with the information relevant to our analysis.\n",
    "\n",
    "We will retrieve the columns of interest from the view, leaving aside others such as dates, which might be relevant for future analyses."
   ]
  },
  {
   "cell_type": "code",
   "execution_count": 3,
   "metadata": {},
   "outputs": [
    {
     "name": "stdout",
     "output_type": "stream",
     "text": [
      "Query performed successfully.\n",
      "Database connection closed.\n"
     ]
    }
   ],
   "source": [
    "data, columns = sql_query(query)\n",
    "\n",
    "if data and columns:\n",
    "    df = pd.DataFrame(data, columns=columns)\n",
    "else:\n",
    "    print(\"No data returned from the query.\")"
   ]
  },
  {
   "cell_type": "code",
   "execution_count": 4,
   "metadata": {},
   "outputs": [
    {
     "data": {
      "text/plain": [
       "(6410, 15)"
      ]
     },
     "execution_count": 4,
     "metadata": {},
     "output_type": "execute_result"
    }
   ],
   "source": [
    "df.shape"
   ]
  },
  {
   "cell_type": "markdown",
   "metadata": {},
   "source": [
    "We have a total of 6410 entries"
   ]
  },
  {
   "cell_type": "markdown",
   "metadata": {},
   "source": [
    "We check for duplicates."
   ]
  },
  {
   "cell_type": "code",
   "execution_count": 5,
   "metadata": {},
   "outputs": [
    {
     "data": {
      "text/plain": [
       "0"
      ]
     },
     "execution_count": 5,
     "metadata": {},
     "output_type": "execute_result"
    }
   ],
   "source": [
    "df.duplicated().sum()"
   ]
  },
  {
   "cell_type": "markdown",
   "metadata": {},
   "source": [
    "### Columns"
   ]
  },
  {
   "cell_type": "code",
   "execution_count": 6,
   "metadata": {},
   "outputs": [
    {
     "data": {
      "text/html": [
       "<div>\n",
       "<style scoped>\n",
       "    .dataframe tbody tr th:only-of-type {\n",
       "        vertical-align: middle;\n",
       "    }\n",
       "\n",
       "    .dataframe tbody tr th {\n",
       "        vertical-align: top;\n",
       "    }\n",
       "\n",
       "    .dataframe thead th {\n",
       "        text-align: right;\n",
       "    }\n",
       "</style>\n",
       "<table border=\"1\" class=\"dataframe\">\n",
       "  <thead>\n",
       "    <tr style=\"text-align: right;\">\n",
       "      <th></th>\n",
       "      <th>user_id</th>\n",
       "      <th>user_type</th>\n",
       "      <th>country</th>\n",
       "      <th>recommendation_system</th>\n",
       "      <th>content_id</th>\n",
       "      <th>content_duration</th>\n",
       "      <th>content_type</th>\n",
       "      <th>content_rating</th>\n",
       "      <th>view_id</th>\n",
       "      <th>view_date</th>\n",
       "      <th>duration_viewed</th>\n",
       "      <th>recommendation_id</th>\n",
       "      <th>recommended_by</th>\n",
       "      <th>interaction_id</th>\n",
       "      <th>interaction_type</th>\n",
       "    </tr>\n",
       "  </thead>\n",
       "  <tbody>\n",
       "    <tr>\n",
       "      <th>0</th>\n",
       "      <td>214</td>\n",
       "      <td>moderator</td>\n",
       "      <td>Germany</td>\n",
       "      <td>Recomendeitor_Plus</td>\n",
       "      <td>153</td>\n",
       "      <td>92</td>\n",
       "      <td>movie</td>\n",
       "      <td>2.5</td>\n",
       "      <td>1</td>\n",
       "      <td>2021-12-31</td>\n",
       "      <td>107</td>\n",
       "      <td>NaN</td>\n",
       "      <td>None</td>\n",
       "      <td>64.0</td>\n",
       "      <td>like</td>\n",
       "    </tr>\n",
       "    <tr>\n",
       "      <th>1</th>\n",
       "      <td>214</td>\n",
       "      <td>moderator</td>\n",
       "      <td>Germany</td>\n",
       "      <td>Recomendeitor_Plus</td>\n",
       "      <td>153</td>\n",
       "      <td>92</td>\n",
       "      <td>movie</td>\n",
       "      <td>2.5</td>\n",
       "      <td>1</td>\n",
       "      <td>2021-12-31</td>\n",
       "      <td>107</td>\n",
       "      <td>NaN</td>\n",
       "      <td>None</td>\n",
       "      <td>559.0</td>\n",
       "      <td>like</td>\n",
       "    </tr>\n",
       "    <tr>\n",
       "      <th>2</th>\n",
       "      <td>214</td>\n",
       "      <td>moderator</td>\n",
       "      <td>Germany</td>\n",
       "      <td>Recomendeitor_Plus</td>\n",
       "      <td>153</td>\n",
       "      <td>92</td>\n",
       "      <td>movie</td>\n",
       "      <td>2.5</td>\n",
       "      <td>1</td>\n",
       "      <td>2021-12-31</td>\n",
       "      <td>107</td>\n",
       "      <td>NaN</td>\n",
       "      <td>None</td>\n",
       "      <td>446.0</td>\n",
       "      <td>favorite</td>\n",
       "    </tr>\n",
       "    <tr>\n",
       "      <th>3</th>\n",
       "      <td>214</td>\n",
       "      <td>moderator</td>\n",
       "      <td>Germany</td>\n",
       "      <td>Recomendeitor_Plus</td>\n",
       "      <td>153</td>\n",
       "      <td>92</td>\n",
       "      <td>movie</td>\n",
       "      <td>2.5</td>\n",
       "      <td>1</td>\n",
       "      <td>2021-12-31</td>\n",
       "      <td>107</td>\n",
       "      <td>NaN</td>\n",
       "      <td>None</td>\n",
       "      <td>1112.0</td>\n",
       "      <td>favorite</td>\n",
       "    </tr>\n",
       "    <tr>\n",
       "      <th>4</th>\n",
       "      <td>214</td>\n",
       "      <td>moderator</td>\n",
       "      <td>Germany</td>\n",
       "      <td>Recomendeitor_Plus</td>\n",
       "      <td>153</td>\n",
       "      <td>92</td>\n",
       "      <td>movie</td>\n",
       "      <td>2.5</td>\n",
       "      <td>1</td>\n",
       "      <td>2021-12-31</td>\n",
       "      <td>107</td>\n",
       "      <td>NaN</td>\n",
       "      <td>None</td>\n",
       "      <td>1271.0</td>\n",
       "      <td>share</td>\n",
       "    </tr>\n",
       "  </tbody>\n",
       "</table>\n",
       "</div>"
      ],
      "text/plain": [
       "   user_id  user_type  country recommendation_system  content_id  \\\n",
       "0      214  moderator  Germany    Recomendeitor_Plus         153   \n",
       "1      214  moderator  Germany    Recomendeitor_Plus         153   \n",
       "2      214  moderator  Germany    Recomendeitor_Plus         153   \n",
       "3      214  moderator  Germany    Recomendeitor_Plus         153   \n",
       "4      214  moderator  Germany    Recomendeitor_Plus         153   \n",
       "\n",
       "   content_duration content_type content_rating  view_id   view_date  \\\n",
       "0                92        movie            2.5        1  2021-12-31   \n",
       "1                92        movie            2.5        1  2021-12-31   \n",
       "2                92        movie            2.5        1  2021-12-31   \n",
       "3                92        movie            2.5        1  2021-12-31   \n",
       "4                92        movie            2.5        1  2021-12-31   \n",
       "\n",
       "   duration_viewed  recommendation_id recommended_by  interaction_id  \\\n",
       "0              107                NaN           None            64.0   \n",
       "1              107                NaN           None           559.0   \n",
       "2              107                NaN           None           446.0   \n",
       "3              107                NaN           None          1112.0   \n",
       "4              107                NaN           None          1271.0   \n",
       "\n",
       "  interaction_type  \n",
       "0             like  \n",
       "1             like  \n",
       "2         favorite  \n",
       "3         favorite  \n",
       "4            share  "
      ]
     },
     "execution_count": 6,
     "metadata": {},
     "output_type": "execute_result"
    }
   ],
   "source": [
    "df.head()"
   ]
  },
  {
   "cell_type": "code",
   "execution_count": 7,
   "metadata": {},
   "outputs": [
    {
     "name": "stdout",
     "output_type": "stream",
     "text": [
      "<class 'pandas.core.frame.DataFrame'>\n",
      "RangeIndex: 6410 entries, 0 to 6409\n",
      "Data columns (total 15 columns):\n",
      " #   Column                 Non-Null Count  Dtype  \n",
      "---  ------                 --------------  -----  \n",
      " 0   user_id                6410 non-null   int64  \n",
      " 1   user_type              6410 non-null   object \n",
      " 2   country                6410 non-null   object \n",
      " 3   recommendation_system  6410 non-null   object \n",
      " 4   content_id             6410 non-null   int64  \n",
      " 5   content_duration       6410 non-null   int64  \n",
      " 6   content_type           6410 non-null   object \n",
      " 7   content_rating         6410 non-null   object \n",
      " 8   view_id                6410 non-null   int64  \n",
      " 9   view_date              6410 non-null   object \n",
      " 10  duration_viewed        6410 non-null   int64  \n",
      " 11  recommendation_id      99 non-null     float64\n",
      " 12  recommended_by         99 non-null     object \n",
      " 13  interaction_id         6013 non-null   float64\n",
      " 14  interaction_type       6013 non-null   object \n",
      "dtypes: float64(2), int64(5), object(8)\n",
      "memory usage: 751.3+ KB\n"
     ]
    }
   ],
   "source": [
    "df.info()"
   ]
  },
  {
   "cell_type": "markdown",
   "metadata": {},
   "source": [
    "* `user_id` provides a unique identifier for the user."
   ]
  },
  {
   "cell_type": "code",
   "execution_count": 8,
   "metadata": {},
   "outputs": [
    {
     "name": "stdout",
     "output_type": "stream",
     "text": [
      "We have a total of 949. The minimun id is 1 and maximum 1000\n"
     ]
    }
   ],
   "source": [
    "number_of_users = len(df['user_id'].unique())\n",
    "user_id_min = df['user_id'].min()\n",
    "user_id_max = df['user_id'].max()\n",
    "\n",
    "print(f\"We have a total of {number_of_users}. The minimun id is {user_id_min} and maximum {user_id_max}\")"
   ]
  },
  {
   "cell_type": "markdown",
   "metadata": {},
   "source": [
    "We see that we have 949 users whose `user_id` ranges from 1 to 1000, so there must be some missing identifiers. It is possible that they correspond to users who have unsubscribed."
   ]
  },
  {
   "cell_type": "markdown",
   "metadata": {},
   "source": [
    "* `user_type` indicates the type of user."
   ]
  },
  {
   "cell_type": "code",
   "execution_count": 9,
   "metadata": {},
   "outputs": [
    {
     "data": {
      "text/plain": [
       "user_type\n",
       "content_creator    1652\n",
       "consumer           1614\n",
       "admin              1584\n",
       "moderator          1560\n",
       "Name: count, dtype: int64"
      ]
     },
     "execution_count": 9,
     "metadata": {},
     "output_type": "execute_result"
    }
   ],
   "source": [
    "df['user_type'].value_counts()"
   ]
  },
  {
   "cell_type": "markdown",
   "metadata": {},
   "source": [
    "We have different types of users: `content_creator`, `consumer`, `admin`, and `moderator`. We see that they are distributed quite evenly, which is unusual for a streaming platform since most users are usually `consumer`.\n",
    "\n",
    "In this case, the dataset is fictional, but in reality, it could indicate a bias in the sample, and further investigation would be needed to understand why this might be the case."
   ]
  },
  {
   "cell_type": "markdown",
   "metadata": {},
   "source": [
    "* `country` indicates the user's country."
   ]
  },
  {
   "cell_type": "code",
   "execution_count": 10,
   "metadata": {},
   "outputs": [
    {
     "data": {
      "text/plain": [
       "country\n",
       "USA        755\n",
       "Spain      745\n",
       "France     723\n",
       "UK         712\n",
       "Germany    640\n",
       "Japan      636\n",
       "India      592\n",
       "Italy      586\n",
       "Brazil     570\n",
       "Canada     451\n",
       "Name: count, dtype: int64"
      ]
     },
     "execution_count": 10,
     "metadata": {},
     "output_type": "execute_result"
    }
   ],
   "source": [
    "df['country'].value_counts()"
   ]
  },
  {
   "cell_type": "markdown",
   "metadata": {},
   "source": [
    "We see that we have users from a total of 10 countries, with a fairly uniform distribution, with greater representation from European countries and the United States."
   ]
  },
  {
   "cell_type": "markdown",
   "metadata": {},
   "source": [
    "* `recommendation_system` is the recommendation system activated for the users. This allows us to distinguish the control group from the test group for conducting the A/B test."
   ]
  },
  {
   "cell_type": "code",
   "execution_count": 11,
   "metadata": {},
   "outputs": [
    {
     "data": {
      "text/plain": [
       "recommendation_system\n",
       "Recomendeitor         3293\n",
       "Recomendeitor_Plus    3117\n",
       "Name: count, dtype: int64"
      ]
     },
     "execution_count": 11,
     "metadata": {},
     "output_type": "execute_result"
    }
   ],
   "source": [
    "df['recommendation_system'].value_counts()"
   ]
  },
  {
   "cell_type": "markdown",
   "metadata": {},
   "source": [
    "We see that the test group is slightly smaller than the control group (note if this has any impact)."
   ]
  },
  {
   "cell_type": "markdown",
   "metadata": {},
   "source": [
    "* `content_id`: provides a unique identifier for the content."
   ]
  },
  {
   "cell_type": "code",
   "execution_count": 12,
   "metadata": {},
   "outputs": [
    {
     "name": "stdout",
     "output_type": "stream",
     "text": [
      "There are a total of 200 different contents\n"
     ]
    }
   ],
   "source": [
    "number_of_contents = len(df['content_id'].unique())\n",
    "\n",
    "print(f\"There are a total of {number_of_contents} different contents\")"
   ]
  },
  {
   "cell_type": "code",
   "execution_count": 13,
   "metadata": {},
   "outputs": [
    {
     "data": {
      "text/plain": [
       "content_type\n",
       "short          1459\n",
       "movie          1330\n",
       "series         1241\n",
       "live           1207\n",
       "documentary    1173\n",
       "Name: count, dtype: int64"
      ]
     },
     "execution_count": 13,
     "metadata": {},
     "output_type": "execute_result"
    }
   ],
   "source": [
    "df['content_type'].value_counts()"
   ]
  },
  {
   "cell_type": "markdown",
   "metadata": {},
   "source": [
    "We have 5 different types of content distributed relatively evenly, with a greater presence of short content compared to the others."
   ]
  },
  {
   "cell_type": "markdown",
   "metadata": {},
   "source": [
    "* `content_rating`: information about the content rating."
   ]
  },
  {
   "cell_type": "code",
   "execution_count": 33,
   "metadata": {},
   "outputs": [
    {
     "data": {
      "image/png": "[encoded data removed]",
      "text/plain": [
       "<Figure size 600x300 with 1 Axes>"
      ]
     },
     "metadata": {},
     "output_type": "display_data"
    }
   ],
   "source": [
    "plt.figure(figsize=(6, 3))\n",
    "sns.histplot(df['content_rating'], bins=15, kde=True)\n",
    "plt.title('Histogram of Content Rating')\n",
    "plt.xlabel('Content Rating')\n",
    "plt.ylabel('Frequency')\n",
    "plt.grid(axis='y', linestyle='--', alpha=0.7)\n",
    "plt.tight_layout()\n",
    "plt.show()"
   ]
  },
  {
   "cell_type": "markdown",
   "metadata": {},
   "source": [
    "We see that the scores are distributed quite evenly without many significant peaks."
   ]
  },
  {
   "cell_type": "markdown",
   "metadata": {},
   "source": [
    "* `view_id`: unique identifier for each view."
   ]
  },
  {
   "cell_type": "code",
   "execution_count": 15,
   "metadata": {},
   "outputs": [
    {
     "name": "stdout",
     "output_type": "stream",
     "text": [
      "There are a total of 3000 different views\n"
     ]
    }
   ],
   "source": [
    "number_of_views = len(df['view_id'].unique())\n",
    "\n",
    "print(f\"There are a total of {number_of_views} different views\")"
   ]
  },
  {
   "cell_type": "markdown",
   "metadata": {},
   "source": [
    "* `view_date`: date when view took place"
   ]
  },
  {
   "cell_type": "code",
   "execution_count": null,
   "metadata": {},
   "outputs": [],
   "source": [
    "df['view_date'] = pd.to_datetime(df['view_date'])"
   ]
  },
  {
   "cell_type": "code",
   "execution_count": 14,
   "metadata": {},
   "outputs": [
    {
     "name": "stdout",
     "output_type": "stream",
     "text": [
      "The minimun date is 2021-01-02 00:00:00 and maximum 2022-12-31 00:00:00\n"
     ]
    }
   ],
   "source": [
    "min_date = df['view_date'].min()\n",
    "max_date = df['view_date'].max()\n",
    "\n",
    "print(f\"The minimun date is {min_date} and maximum {max_date}\")"
   ]
  },
  {
   "cell_type": "markdown",
   "metadata": {},
   "source": [
    "We see that all views took place between the 2nd of January, 2021; and the 31st of December, 2022."
   ]
  },
  {
   "cell_type": "code",
   "execution_count": 16,
   "metadata": {},
   "outputs": [
    {
     "data": {
      "text/plain": [
       "user_id\n",
       "239    49\n",
       "499    36\n",
       "111    35\n",
       "919    35\n",
       "195    32\n",
       "Name: view_id, dtype: int64"
      ]
     },
     "execution_count": 16,
     "metadata": {},
     "output_type": "execute_result"
    }
   ],
   "source": [
    "df.groupby('user_id')['view_id'].count().sort_values(ascending=False)[:5]"
   ]
  },
  {
   "cell_type": "markdown",
   "metadata": {},
   "source": [
    "We see that the users with the most views have a total of over 30, with one standout user having 49."
   ]
  },
  {
   "cell_type": "markdown",
   "metadata": {},
   "source": [
    "* `content_duration`: content duration, in minutes  \n",
    "\n",
    "* `duration_viewed`: viewing duration, in minutes"
   ]
  },
  {
   "cell_type": "code",
   "execution_count": 34,
   "metadata": {},
   "outputs": [
    {
     "data": {
      "image/png": "[encoded data removed]",
      "text/plain": [
       "<Figure size 600x300 with 1 Axes>"
      ]
     },
     "metadata": {},
     "output_type": "display_data"
    }
   ],
   "source": [
    "ratio = df['duration_viewed'] / df['content_duration']\n",
    "\n",
    "plt.figure(figsize=(6, 3))\n",
    "sns.histplot(ratio, bins=20, kde=True)\n",
    "plt.title('Distribution of Viewed Ratio')\n",
    "plt.xlabel('Viewed Ratio')\n",
    "plt.ylabel('Frequency')\n",
    "plt.axvline(x=1, color='red', linestyle='--', label='Ratio = 1')\n",
    "plt.show()"
   ]
  },
  {
   "cell_type": "markdown",
   "metadata": {},
   "source": [
    "We see that most views do not complete the content (ratio < 1, red line). However, there is a number of views with a viewing duration longer than the content duration. \n",
    "\n",
    "This could be due to a recording error (e.g., it keeps counting even if the user switches to another piece of content) or a rewatch of the same content."
   ]
  },
  {
   "cell_type": "markdown",
   "metadata": {},
   "source": [
    "* `recommendation_id`: unique identifier for the recommendation."
   ]
  },
  {
   "cell_type": "code",
   "execution_count": 21,
   "metadata": {},
   "outputs": [
    {
     "name": "stdout",
     "output_type": "stream",
     "text": [
      "There are a total of 45 different recommendations\n"
     ]
    }
   ],
   "source": [
    "number_of_recommendations = len(df['recommendation_id'].unique())\n",
    "\n",
    "print(f\"There are a total of {number_of_recommendations} different recommendations\")"
   ]
  },
  {
   "cell_type": "markdown",
   "metadata": {},
   "source": [
    "We see that there are only 45 unique recommendations. This indicates that the recommendation system is not influencing most views, that the system is not working correctly, or that this data is not being recorded properly.  \n",
    "\n",
    "This could significantly impact the conclusions of the analysis, so we would need to delve deeper into the meaning of this column."
   ]
  },
  {
   "cell_type": "markdown",
   "metadata": {},
   "source": [
    "* `recommended_by`: recommendation system used for the recommendation."
   ]
  },
  {
   "cell_type": "code",
   "execution_count": 26,
   "metadata": {},
   "outputs": [
    {
     "data": {
      "text/plain": [
       "recommended_by\n",
       "Recomendeitor         52\n",
       "Recomendeitor_Plus    47\n",
       "Name: count, dtype: int64"
      ]
     },
     "execution_count": 26,
     "metadata": {},
     "output_type": "execute_result"
    }
   ],
   "source": [
    "df['recommended_by'].value_counts()"
   ]
  },
  {
   "cell_type": "markdown",
   "metadata": {},
   "source": [
    "It can be either `Recomendeitor_Plus` or `Recomendeitor`. We see that there are very few non-null values, related to the same issue as the previous column."
   ]
  },
  {
   "cell_type": "markdown",
   "metadata": {},
   "source": [
    "* `interaction_id`: unique identifier for the interaction."
   ]
  },
  {
   "cell_type": "code",
   "execution_count": 28,
   "metadata": {},
   "outputs": [
    {
     "name": "stdout",
     "output_type": "stream",
     "text": [
      "There are a total of 1907 different interactions\n"
     ]
    }
   ],
   "source": [
    "number_of_interactions = len(df['interaction_id'].unique())\n",
    "\n",
    "print(f\"There are a total of {number_of_interactions} different interactions\")"
   ]
  },
  {
   "cell_type": "markdown",
   "metadata": {},
   "source": [
    "* `interaction_type`: type of interaction performed."
   ]
  },
  {
   "cell_type": "code",
   "execution_count": 29,
   "metadata": {},
   "outputs": [
    {
     "data": {
      "text/plain": [
       "interaction_type\n",
       "favorite    1603\n",
       "comment     1589\n",
       "share       1422\n",
       "like        1399\n",
       "Name: count, dtype: int64"
      ]
     },
     "execution_count": 29,
     "metadata": {},
     "output_type": "execute_result"
    }
   ],
   "source": [
    "df['interaction_type'].value_counts()"
   ]
  },
  {
   "cell_type": "markdown",
   "metadata": {},
   "source": [
    "In this case, we have a good number of interactions distributed quite evenly. It is striking that there are more comments and shares than likes, as it is usually easier to give a like than perform any other interaction, and likes tend to have the highest numbers.  \n",
    "\n",
    "Again, this is likely a consequence of the data being artificially generated."
   ]
  },
  {
   "cell_type": "markdown",
   "metadata": {},
   "source": [
    "---"
   ]
  },
  {
   "cell_type": "markdown",
   "metadata": {},
   "source": [
    "After a quick exploratory analysis, we can move on to hypothesis testing. Let's proceed to the next notebook."
   ]
  }
 ],
 "metadata": {
  "kernelspec": {
   "display_name": "proyecto6",
   "language": "python",
   "name": "python3"
  },
  "language_info": {
   "codemirror_mode": {
    "name": "ipython",
    "version": 3
   },
   "file_extension": ".py",
   "mimetype": "text/x-python",
   "name": "python",
   "nbconvert_exporter": "python",
   "pygments_lexer": "ipython3",
   "version": "3.12.7"
  }
 },
 "nbformat": 4,
 "nbformat_minor": 2
}
